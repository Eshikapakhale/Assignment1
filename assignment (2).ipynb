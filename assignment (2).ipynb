{
 "cells": [
  {
   "cell_type": "code",
   "execution_count": null,
   "id": "a20e3579-3f4b-4709-9b40-1a79ab5f4709",
   "metadata": {},
   "outputs": [],
   "source": [
    "# 1] Create a Vehicle class with max_speed and mileage instance attributes  (2 marks)"
   ]
  },
  {
   "cell_type": "code",
   "execution_count": 11,
   "id": "f9d1c711-553d-48bc-a0ac-cbe712f08a25",
   "metadata": {},
   "outputs": [],
   "source": [
    "class Vehicle:\n",
    "    def __init__(self, max_speed, mileage):\n",
    "        self.max_speed = max_speed\n",
    "        self.mileage = mileage"
   ]
  },
  {
   "cell_type": "code",
   "execution_count": 13,
   "id": "2bbcc7d7-e70e-4808-8fca-495227558f31",
   "metadata": {},
   "outputs": [
    {
     "name": "stdout",
     "output_type": "stream",
     "text": [
      "220 1000\n"
     ]
    }
   ],
   "source": [
    "a=Vehicle(220,1000)\n",
    "print(a.max_speed, a.mileage)"
   ]
  },
  {
   "cell_type": "code",
   "execution_count": null,
   "id": "3c5aed89-5fbb-4a72-a999-c52fad75dcfa",
   "metadata": {},
   "outputs": [],
   "source": []
  },
  {
   "cell_type": "code",
   "execution_count": null,
   "id": "612d1351-ffec-42da-bb78-a5bfdd895eb4",
   "metadata": {},
   "outputs": [],
   "source": [
    "# 2] Create a Bus class that inherits from the Vehicle class. Give the capacity argument of Bus.seating_capacity() a default value of 50. (6 marks)\n"
   ]
  },
  {
   "cell_type": "code",
   "execution_count": 25,
   "id": "306337b8-5aa4-4133-b13c-0e9bd6eecb40",
   "metadata": {},
   "outputs": [],
   "source": [
    "class Vehicle:\n",
    "    def __init__(self, name, max_speed, mileage):\n",
    "        self.name = name\n",
    "        self.max_speed = max_speed\n",
    "        self.mileage = mileage\n",
    "\n",
    "class bus(Vehicle):\n",
    "    def seating_capacity(self, capacity=50):\n",
    "        print (f\"The seating capacity of a {self.name} is {capacity} passengers\")\n"
   ]
  },
  {
   "cell_type": "code",
   "execution_count": 31,
   "id": "862ab94f-5c57-4036-9a66-c55044e2170b",
   "metadata": {},
   "outputs": [
    {
     "name": "stdout",
     "output_type": "stream",
     "text": [
      "The seating capacity of a school bus is 50 passengers\n"
     ]
    }
   ],
   "source": [
    "a=bus(\"school bus\",220,1000)\n",
    "a.seating_capacity()"
   ]
  },
  {
   "cell_type": "code",
   "execution_count": null,
   "id": "08a27c5d-d3e8-48e2-bed6-6219aa354e39",
   "metadata": {},
   "outputs": [],
   "source": []
  },
  {
   "cell_type": "code",
   "execution_count": null,
   "id": "fe022baf-3f78-4c05-87eb-908f2c2bc589",
   "metadata": {},
   "outputs": [],
   "source": [
    "# 3]Define property that should have the same value for every class instance (2 marks)"
   ]
  },
  {
   "cell_type": "code",
   "execution_count": 35,
   "id": "1d4f2187-8f27-41e6-b419-0c88cbad07fe",
   "metadata": {},
   "outputs": [],
   "source": [
    "class Vehicle:\n",
    "    color='black'\n",
    "    def __init__(self, name, max_speed, mileage):\n",
    "        self.name = name\n",
    "        self.max_speed = max_speed\n",
    "        self.mileage = mileage\n",
    "\n",
    "\n",
    "class Bike(Vehicle):\n",
    "    pass\n",
    "\n",
    "class Car(Vehicle):\n",
    "    pass"
   ]
  },
  {
   "cell_type": "code",
   "execution_count": 65,
   "id": "0ee7d52d-d1a4-4b49-8896-542b9a594d91",
   "metadata": {},
   "outputs": [
    {
     "name": "stdout",
     "output_type": "stream",
     "text": [
      "color: black Bike: Honda CBR Speed: 300 Mileage: 32\n"
     ]
    }
   ],
   "source": [
    "b=Bike(\"Honda CBR\",300,32)\n",
    "print(\"color:\",b.color, \"Bike:\",b.name, \"Speed:\",b.max_speed, \"Mileage:\", b.mileage)"
   ]
  },
  {
   "cell_type": "code",
   "execution_count": 69,
   "id": "54f7d7ac-325b-433e-8c59-1db809609568",
   "metadata": {},
   "outputs": [
    {
     "name": "stdout",
     "output_type": "stream",
     "text": [
      "color: black Car: Creta Speed: 195 Mileage: 21\n"
     ]
    }
   ],
   "source": [
    "c=Car(\"Creta\",195,21)\n",
    "print(\"color:\",c.color, \"Car:\",c.name, \"Speed:\",c.max_speed, \"Mileage:\", c.mileage)"
   ]
  },
  {
   "cell_type": "code",
   "execution_count": null,
   "id": "730bb006-cb2e-4fc6-b79f-3423bf9481c9",
   "metadata": {},
   "outputs": [],
   "source": []
  },
  {
   "cell_type": "code",
   "execution_count": null,
   "id": "33dbe2f7-fa66-4572-a72e-199acebfbbfe",
   "metadata": {},
   "outputs": [],
   "source": [
    "# 4] Create a Bus child class that inherits from the Vehicle class. The default fare charge of any vehicle is seating capacity * 100.\n",
    "#If Vehicle is Bus instance, we need to add an extra 10% on full fare as a maintenance charge. \n",
    "#So total fare for bus instance will become the final amount = total fare + 10% of the total fare. (10 marks)"
   ]
  },
  {
   "cell_type": "code",
   "execution_count": 91,
   "id": "22694c3b-81fa-48cc-8dad-5a721f03dc5c",
   "metadata": {},
   "outputs": [],
   "source": [
    "class Vehicle:\n",
    "    def __init__(self, name, mileage, capacity):\n",
    "        self.name = name\n",
    "        self.mileage = mileage\n",
    "        self.capacity = capacity\n",
    "    def fare(self):\n",
    "        return self.capacity * 100\n",
    "\n",
    "class Bus(Vehicle):\n",
    "    def fare(self):\n",
    "        fare_amount = self.capacity*100 \n",
    "        total_fare =fare_amount+(0.1 *fare_amount)\n",
    "        return total_fare\n"
   ]
  },
  {
   "cell_type": "code",
   "execution_count": 93,
   "id": "c51801bc-3305-4cfe-90ad-b6c1067f1e9f",
   "metadata": {},
   "outputs": [
    {
     "name": "stdout",
     "output_type": "stream",
     "text": [
      "Total Bus fare is: 5500.0\n"
     ]
    }
   ],
   "source": [
    "v=Bus(\"School Volvo\", 12, 50)\n",
    "print(\"Total Bus fare is:\", v.fare())\n"
   ]
  },
  {
   "cell_type": "code",
   "execution_count": null,
   "id": "bc9611e5-852f-42c0-9f12-716ea6e73b2a",
   "metadata": {},
   "outputs": [],
   "source": []
  },
  {
   "cell_type": "code",
   "execution_count": null,
   "id": "ac87ff5b-1efc-4c65-9fec-ff39f85446c4",
   "metadata": {},
   "outputs": [],
   "source": [
    "#create consumer class with wealth attribute, earn( )  method that  increments the consumer’s wealth and spend( ) method that decreases wealth"
   ]
  },
  {
   "cell_type": "code",
   "execution_count": 55,
   "id": "bc9bc055-85f3-44ca-9f84-3bde1bdd201d",
   "metadata": {},
   "outputs": [],
   "source": [
    "class Consumer:\n",
    "\n",
    "    def __init__(self, wealth):\n",
    "        self.wealth = wealth\n",
    "\n",
    "    def earn(self,y):\n",
    "         new_wealth = self.wealth +y\n",
    "         self.wealth = new_wealth\n",
    "    def spend(self, x):\n",
    "        new_wealth = self.wealth - x\n",
    "        self.wealth = new_wealth"
   ]
  },
  {
   "cell_type": "code",
   "execution_count": 47,
   "id": "93020b2e-d6b7-46cd-82c5-34450407efad",
   "metadata": {},
   "outputs": [
    {
     "data": {
      "text/plain": [
       "5"
      ]
     },
     "execution_count": 47,
     "metadata": {},
     "output_type": "execute_result"
    }
   ],
   "source": [
    "c1 = Consumer(10) \n",
    "c1.spend(5)\n",
    "c1.wealth"
   ]
  },
  {
   "cell_type": "code",
   "execution_count": 29,
   "id": "42068ca2-ea23-4570-bd7f-d7acee5948f7",
   "metadata": {},
   "outputs": [
    {
     "name": "stdout",
     "output_type": "stream",
     "text": [
      "Insufficent funds\n"
     ]
    }
   ],
   "source": [
    "c1.earn(15)\n",
    "c1.spend(100)"
   ]
  },
  {
   "cell_type": "code",
   "execution_count": 57,
   "id": "ac513386-a973-4dcf-bd8d-07978370c64b",
   "metadata": {},
   "outputs": [
    {
     "data": {
      "text/plain": [
       "8"
      ]
     },
     "execution_count": 57,
     "metadata": {},
     "output_type": "execute_result"
    }
   ],
   "source": [
    "c1 = Consumer(10)\n",
    "c2 = Consumer(12)\n",
    "c2.spend(4)\n",
    "c2.wealth"
   ]
  },
  {
   "cell_type": "code",
   "execution_count": 59,
   "id": "1dff2c8d-484b-4b95-9089-33fec439dc58",
   "metadata": {},
   "outputs": [
    {
     "data": {
      "text/plain": [
       "10"
      ]
     },
     "execution_count": 59,
     "metadata": {},
     "output_type": "execute_result"
    }
   ],
   "source": [
    "c1.wealth"
   ]
  }
 ],
 "metadata": {
  "kernelspec": {
   "display_name": "Python 3 (ipykernel)",
   "language": "python",
   "name": "python3"
  },
  "language_info": {
   "codemirror_mode": {
    "name": "ipython",
    "version": 3
   },
   "file_extension": ".py",
   "mimetype": "text/x-python",
   "name": "python",
   "nbconvert_exporter": "python",
   "pygments_lexer": "ipython3",
   "version": "3.12.4"
  }
 },
 "nbformat": 4,
 "nbformat_minor": 5
}
