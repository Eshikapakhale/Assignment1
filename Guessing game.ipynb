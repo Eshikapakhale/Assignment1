{
 "cells": [
  {
   "cell_type": "code",
   "execution_count": 3,
   "id": "af38916f-8999-4d79-85a0-56af8b102714",
   "metadata": {},
   "outputs": [],
   "source": [
    "import numpy as np"
   ]
  },
  {
   "cell_type": "code",
   "execution_count": 9,
   "id": "ad0b7904-902e-4be1-8c64-a9b8cb3379c6",
   "metadata": {},
   "outputs": [
    {
     "name": "stdout",
     "output_type": "stream",
     "text": [
      "*Guess the secret_number between 1 and 10. You have 3 attempts to crack it.*\n"
     ]
    },
    {
     "name": "stdin",
     "output_type": "stream",
     "text": [
      "Guess the number: 2\n"
     ]
    },
    {
     "name": "stdout",
     "output_type": "stream",
     "text": [
      "Incorrect guess! Try again.\n"
     ]
    },
    {
     "name": "stdin",
     "output_type": "stream",
     "text": [
      "Guess the number: 3\n"
     ]
    },
    {
     "name": "stdout",
     "output_type": "stream",
     "text": [
      "Incorrect guess! Try again.\n"
     ]
    },
    {
     "name": "stdin",
     "output_type": "stream",
     "text": [
      "Guess the number: 4\n"
     ]
    },
    {
     "name": "stdout",
     "output_type": "stream",
     "text": [
      "Incorrect guess! Try again.\n",
      "Sorry! Out of attempts. The  secret number is 8\n"
     ]
    }
   ],
   "source": [
    "secret_number= np.random.randint(1,10)\n",
    "print(\"*Guess the secret_number between 1 and 10. You have 3 attempts to crack it.*\")\n",
    "attempts=0\n",
    "max_attempts =3\n",
    "\n",
    "while attempts<max_attempts:\n",
    "    attempts += 1\n",
    "    guess=int(input(\"Guess the number:\"))\n",
    "    if guess==secret_number:\n",
    "        print(f\"congratulations! you have guessed the number in {attempts} attempts.\")\n",
    "        break\n",
    "    else:\n",
    "        print(\"Incorrect guess! Try again.\")\n",
    "\n",
    "\n",
    "if guess!=secret_number:\n",
    "    print(f\"Sorry! Out of attempts. The  secret number is {secret_number}\")\n",
    "    \n",
    "        \n"
   ]
  },
  {
   "cell_type": "code",
   "execution_count": null,
   "id": "a7b59df8-66ca-4168-9ddd-e5f3d36321b8",
   "metadata": {},
   "outputs": [],
   "source": []
  },
  {
   "cell_type": "code",
   "execution_count": null,
   "id": "35a86e9e-d0d1-449b-ba37-d1586fb51f9a",
   "metadata": {},
   "outputs": [],
   "source": []
  },
  {
   "cell_type": "code",
   "execution_count": null,
   "id": "983eb38e-d0e2-4626-8e20-54de6319265b",
   "metadata": {},
   "outputs": [],
   "source": []
  }
 ],
 "metadata": {
  "kernelspec": {
   "display_name": "Python 3 (ipykernel)",
   "language": "python",
   "name": "python3"
  },
  "language_info": {
   "codemirror_mode": {
    "name": "ipython",
    "version": 3
   },
   "file_extension": ".py",
   "mimetype": "text/x-python",
   "name": "python",
   "nbconvert_exporter": "python",
   "pygments_lexer": "ipython3",
   "version": "3.12.4"
  }
 },
 "nbformat": 4,
 "nbformat_minor": 5
}
